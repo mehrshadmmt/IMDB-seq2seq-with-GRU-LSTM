{
  "cells": [
    {
      "cell_type": "code",
      "execution_count": null,
      "metadata": {
        "id": "0nI7SX_d_hrv",
        "colab": {
          "base_uri": "https://localhost:8080/"
        },
        "outputId": "a75c154b-710e-4242-d516-ad2a333e648b"
      },
      "outputs": [
        {
          "output_type": "stream",
          "name": "stderr",
          "text": [
            "/usr/local/lib/python3.8/dist-packages/torch/cuda/__init__.py:497: UserWarning: Can't initialize NVML\n",
            "  warnings.warn(\"Can't initialize NVML\")\n"
          ]
        }
      ],
      "source": [
        "import torch\n",
        "import spacy\n",
        "from torch.utils.data import Dataset , DataLoader\n",
        "import numpy as np\n",
        "import torch.nn as nn\n",
        "import pandas as pd\n",
        "import torchtext\n",
        "from torchtext.data.utils import get_tokenizer\n",
        "from torch.nn.utils.rnn import pad_sequence\n",
        "from sklearn.model_selection import train_test_split"
      ]
    },
    {
      "cell_type": "code",
      "execution_count": null,
      "metadata": {
        "id": "KVjSAMuDAJvh"
      },
      "outputs": [],
      "source": [
        "spacy_en = spacy.load(\"en_core_web_sm\")\n",
        "device = torch.device('cuda' if torch.cuda.is_available() else 'cpu')"
      ]
    },
    {
      "cell_type": "code",
      "execution_count": null,
      "metadata": {
        "colab": {
          "base_uri": "https://localhost:8080/"
        },
        "id": "FTehRWVWCy0R",
        "outputId": "de77fcd3-813f-4af2-a6a1-75399477c76c"
      },
      "outputs": [
        {
          "output_type": "stream",
          "name": "stdout",
          "text": [
            "Downloading...\n",
            "From: https://drive.google.com/uc?id=1g0Wll4Q7zp5JrrfM3Tnox1RCMfeTJ_Nq\n",
            "To: /content/imdb_processed.csv\n",
            "100% 45.1M/45.1M [00:00<00:00, 84.2MB/s]\n"
          ]
        }
      ],
      "source": [
        "!gdown 1g0Wll4Q7zp5JrrfM3Tnox1RCMfeTJ_Nq"
      ]
    },
    {
      "cell_type": "code",
      "execution_count": null,
      "metadata": {
        "colab": {
          "base_uri": "https://localhost:8080/",
          "height": 363
        },
        "id": "XZLGU8mMATUx",
        "outputId": "5e58096e-c17d-4177-ff7a-2bc9542fa187"
      },
      "outputs": [
        {
          "output_type": "execute_result",
          "data": {
            "text/plain": [
              "                                           processed  label\n",
              "0  One reviewer mentioned watching Oz episode hoo...      1\n",
              "1  A wonderful little production . The filming te...      1\n",
              "2  I thought wonderful way spend time hot summer ...      1\n",
              "3  Basically family little boy Jake think zombie ...      0\n",
              "4  Petter Mattei Love Time Money visually stunnin...      1\n",
              "5  Probably - time favorite movie , story selfles...      1\n",
              "6  I sure would like see resurrection dated Seahu...      1\n",
              "7  This show amazing , fresh innovative idea firs...      0\n",
              "8  Encouraged positive comment film I looking for...      0\n",
              "9  If like original gut wrenching laughter like m...      1"
            ],
            "text/html": [
              "\n",
              "  <div id=\"df-2738fe5f-ecba-4a51-bc16-aaa9febe3150\">\n",
              "    <div class=\"colab-df-container\">\n",
              "      <div>\n",
              "<style scoped>\n",
              "    .dataframe tbody tr th:only-of-type {\n",
              "        vertical-align: middle;\n",
              "    }\n",
              "\n",
              "    .dataframe tbody tr th {\n",
              "        vertical-align: top;\n",
              "    }\n",
              "\n",
              "    .dataframe thead th {\n",
              "        text-align: right;\n",
              "    }\n",
              "</style>\n",
              "<table border=\"1\" class=\"dataframe\">\n",
              "  <thead>\n",
              "    <tr style=\"text-align: right;\">\n",
              "      <th></th>\n",
              "      <th>processed</th>\n",
              "      <th>label</th>\n",
              "    </tr>\n",
              "  </thead>\n",
              "  <tbody>\n",
              "    <tr>\n",
              "      <th>0</th>\n",
              "      <td>One reviewer mentioned watching Oz episode hoo...</td>\n",
              "      <td>1</td>\n",
              "    </tr>\n",
              "    <tr>\n",
              "      <th>1</th>\n",
              "      <td>A wonderful little production . The filming te...</td>\n",
              "      <td>1</td>\n",
              "    </tr>\n",
              "    <tr>\n",
              "      <th>2</th>\n",
              "      <td>I thought wonderful way spend time hot summer ...</td>\n",
              "      <td>1</td>\n",
              "    </tr>\n",
              "    <tr>\n",
              "      <th>3</th>\n",
              "      <td>Basically family little boy Jake think zombie ...</td>\n",
              "      <td>0</td>\n",
              "    </tr>\n",
              "    <tr>\n",
              "      <th>4</th>\n",
              "      <td>Petter Mattei Love Time Money visually stunnin...</td>\n",
              "      <td>1</td>\n",
              "    </tr>\n",
              "    <tr>\n",
              "      <th>5</th>\n",
              "      <td>Probably - time favorite movie , story selfles...</td>\n",
              "      <td>1</td>\n",
              "    </tr>\n",
              "    <tr>\n",
              "      <th>6</th>\n",
              "      <td>I sure would like see resurrection dated Seahu...</td>\n",
              "      <td>1</td>\n",
              "    </tr>\n",
              "    <tr>\n",
              "      <th>7</th>\n",
              "      <td>This show amazing , fresh innovative idea firs...</td>\n",
              "      <td>0</td>\n",
              "    </tr>\n",
              "    <tr>\n",
              "      <th>8</th>\n",
              "      <td>Encouraged positive comment film I looking for...</td>\n",
              "      <td>0</td>\n",
              "    </tr>\n",
              "    <tr>\n",
              "      <th>9</th>\n",
              "      <td>If like original gut wrenching laughter like m...</td>\n",
              "      <td>1</td>\n",
              "    </tr>\n",
              "  </tbody>\n",
              "</table>\n",
              "</div>\n",
              "      <button class=\"colab-df-convert\" onclick=\"convertToInteractive('df-2738fe5f-ecba-4a51-bc16-aaa9febe3150')\"\n",
              "              title=\"Convert this dataframe to an interactive table.\"\n",
              "              style=\"display:none;\">\n",
              "        \n",
              "  <svg xmlns=\"http://www.w3.org/2000/svg\" height=\"24px\"viewBox=\"0 0 24 24\"\n",
              "       width=\"24px\">\n",
              "    <path d=\"M0 0h24v24H0V0z\" fill=\"none\"/>\n",
              "    <path d=\"M18.56 5.44l.94 2.06.94-2.06 2.06-.94-2.06-.94-.94-2.06-.94 2.06-2.06.94zm-11 1L8.5 8.5l.94-2.06 2.06-.94-2.06-.94L8.5 2.5l-.94 2.06-2.06.94zm10 10l.94 2.06.94-2.06 2.06-.94-2.06-.94-.94-2.06-.94 2.06-2.06.94z\"/><path d=\"M17.41 7.96l-1.37-1.37c-.4-.4-.92-.59-1.43-.59-.52 0-1.04.2-1.43.59L10.3 9.45l-7.72 7.72c-.78.78-.78 2.05 0 2.83L4 21.41c.39.39.9.59 1.41.59.51 0 1.02-.2 1.41-.59l7.78-7.78 2.81-2.81c.8-.78.8-2.07 0-2.86zM5.41 20L4 18.59l7.72-7.72 1.47 1.35L5.41 20z\"/>\n",
              "  </svg>\n",
              "      </button>\n",
              "      \n",
              "  <style>\n",
              "    .colab-df-container {\n",
              "      display:flex;\n",
              "      flex-wrap:wrap;\n",
              "      gap: 12px;\n",
              "    }\n",
              "\n",
              "    .colab-df-convert {\n",
              "      background-color: #E8F0FE;\n",
              "      border: none;\n",
              "      border-radius: 50%;\n",
              "      cursor: pointer;\n",
              "      display: none;\n",
              "      fill: #1967D2;\n",
              "      height: 32px;\n",
              "      padding: 0 0 0 0;\n",
              "      width: 32px;\n",
              "    }\n",
              "\n",
              "    .colab-df-convert:hover {\n",
              "      background-color: #E2EBFA;\n",
              "      box-shadow: 0px 1px 2px rgba(60, 64, 67, 0.3), 0px 1px 3px 1px rgba(60, 64, 67, 0.15);\n",
              "      fill: #174EA6;\n",
              "    }\n",
              "\n",
              "    [theme=dark] .colab-df-convert {\n",
              "      background-color: #3B4455;\n",
              "      fill: #D2E3FC;\n",
              "    }\n",
              "\n",
              "    [theme=dark] .colab-df-convert:hover {\n",
              "      background-color: #434B5C;\n",
              "      box-shadow: 0px 1px 3px 1px rgba(0, 0, 0, 0.15);\n",
              "      filter: drop-shadow(0px 1px 2px rgba(0, 0, 0, 0.3));\n",
              "      fill: #FFFFFF;\n",
              "    }\n",
              "  </style>\n",
              "\n",
              "      <script>\n",
              "        const buttonEl =\n",
              "          document.querySelector('#df-2738fe5f-ecba-4a51-bc16-aaa9febe3150 button.colab-df-convert');\n",
              "        buttonEl.style.display =\n",
              "          google.colab.kernel.accessAllowed ? 'block' : 'none';\n",
              "\n",
              "        async function convertToInteractive(key) {\n",
              "          const element = document.querySelector('#df-2738fe5f-ecba-4a51-bc16-aaa9febe3150');\n",
              "          const dataTable =\n",
              "            await google.colab.kernel.invokeFunction('convertToInteractive',\n",
              "                                                     [key], {});\n",
              "          if (!dataTable) return;\n",
              "\n",
              "          const docLinkHtml = 'Like what you see? Visit the ' +\n",
              "            '<a target=\"_blank\" href=https://colab.research.google.com/notebooks/data_table.ipynb>data table notebook</a>'\n",
              "            + ' to learn more about interactive tables.';\n",
              "          element.innerHTML = '';\n",
              "          dataTable['output_type'] = 'display_data';\n",
              "          await google.colab.output.renderOutput(dataTable, element);\n",
              "          const docLink = document.createElement('div');\n",
              "          docLink.innerHTML = docLinkHtml;\n",
              "          element.appendChild(docLink);\n",
              "        }\n",
              "      </script>\n",
              "    </div>\n",
              "  </div>\n",
              "  "
            ]
          },
          "metadata": {},
          "execution_count": 4
        }
      ],
      "source": [
        "dataset = pd.read_csv('/content/imdb_processed.csv')\n",
        "dataset.head(10)"
      ]
    },
    {
      "cell_type": "code",
      "execution_count": null,
      "metadata": {
        "colab": {
          "base_uri": "https://localhost:8080/",
          "height": 143
        },
        "id": "hBLLhFBwLNUS",
        "outputId": "ec34a60c-14f4-4872-d8b7-ee4c73229a88"
      },
      "outputs": [
        {
          "output_type": "execute_result",
          "data": {
            "text/plain": [
              "                                           processed  label\n",
              "0  One reviewer mentioned watching Oz episode hoo...      1\n",
              "1  A wonderful little production . The filming te...      1\n",
              "2  I thought wonderful way spend time hot summer ...      1"
            ],
            "text/html": [
              "\n",
              "  <div id=\"df-d4380267-5d99-4016-8358-e38113cfeb1b\">\n",
              "    <div class=\"colab-df-container\">\n",
              "      <div>\n",
              "<style scoped>\n",
              "    .dataframe tbody tr th:only-of-type {\n",
              "        vertical-align: middle;\n",
              "    }\n",
              "\n",
              "    .dataframe tbody tr th {\n",
              "        vertical-align: top;\n",
              "    }\n",
              "\n",
              "    .dataframe thead th {\n",
              "        text-align: right;\n",
              "    }\n",
              "</style>\n",
              "<table border=\"1\" class=\"dataframe\">\n",
              "  <thead>\n",
              "    <tr style=\"text-align: right;\">\n",
              "      <th></th>\n",
              "      <th>processed</th>\n",
              "      <th>label</th>\n",
              "    </tr>\n",
              "  </thead>\n",
              "  <tbody>\n",
              "    <tr>\n",
              "      <th>0</th>\n",
              "      <td>One reviewer mentioned watching Oz episode hoo...</td>\n",
              "      <td>1</td>\n",
              "    </tr>\n",
              "    <tr>\n",
              "      <th>1</th>\n",
              "      <td>A wonderful little production . The filming te...</td>\n",
              "      <td>1</td>\n",
              "    </tr>\n",
              "    <tr>\n",
              "      <th>2</th>\n",
              "      <td>I thought wonderful way spend time hot summer ...</td>\n",
              "      <td>1</td>\n",
              "    </tr>\n",
              "  </tbody>\n",
              "</table>\n",
              "</div>\n",
              "      <button class=\"colab-df-convert\" onclick=\"convertToInteractive('df-d4380267-5d99-4016-8358-e38113cfeb1b')\"\n",
              "              title=\"Convert this dataframe to an interactive table.\"\n",
              "              style=\"display:none;\">\n",
              "        \n",
              "  <svg xmlns=\"http://www.w3.org/2000/svg\" height=\"24px\"viewBox=\"0 0 24 24\"\n",
              "       width=\"24px\">\n",
              "    <path d=\"M0 0h24v24H0V0z\" fill=\"none\"/>\n",
              "    <path d=\"M18.56 5.44l.94 2.06.94-2.06 2.06-.94-2.06-.94-.94-2.06-.94 2.06-2.06.94zm-11 1L8.5 8.5l.94-2.06 2.06-.94-2.06-.94L8.5 2.5l-.94 2.06-2.06.94zm10 10l.94 2.06.94-2.06 2.06-.94-2.06-.94-.94-2.06-.94 2.06-2.06.94z\"/><path d=\"M17.41 7.96l-1.37-1.37c-.4-.4-.92-.59-1.43-.59-.52 0-1.04.2-1.43.59L10.3 9.45l-7.72 7.72c-.78.78-.78 2.05 0 2.83L4 21.41c.39.39.9.59 1.41.59.51 0 1.02-.2 1.41-.59l7.78-7.78 2.81-2.81c.8-.78.8-2.07 0-2.86zM5.41 20L4 18.59l7.72-7.72 1.47 1.35L5.41 20z\"/>\n",
              "  </svg>\n",
              "      </button>\n",
              "      \n",
              "  <style>\n",
              "    .colab-df-container {\n",
              "      display:flex;\n",
              "      flex-wrap:wrap;\n",
              "      gap: 12px;\n",
              "    }\n",
              "\n",
              "    .colab-df-convert {\n",
              "      background-color: #E8F0FE;\n",
              "      border: none;\n",
              "      border-radius: 50%;\n",
              "      cursor: pointer;\n",
              "      display: none;\n",
              "      fill: #1967D2;\n",
              "      height: 32px;\n",
              "      padding: 0 0 0 0;\n",
              "      width: 32px;\n",
              "    }\n",
              "\n",
              "    .colab-df-convert:hover {\n",
              "      background-color: #E2EBFA;\n",
              "      box-shadow: 0px 1px 2px rgba(60, 64, 67, 0.3), 0px 1px 3px 1px rgba(60, 64, 67, 0.15);\n",
              "      fill: #174EA6;\n",
              "    }\n",
              "\n",
              "    [theme=dark] .colab-df-convert {\n",
              "      background-color: #3B4455;\n",
              "      fill: #D2E3FC;\n",
              "    }\n",
              "\n",
              "    [theme=dark] .colab-df-convert:hover {\n",
              "      background-color: #434B5C;\n",
              "      box-shadow: 0px 1px 3px 1px rgba(0, 0, 0, 0.15);\n",
              "      filter: drop-shadow(0px 1px 2px rgba(0, 0, 0, 0.3));\n",
              "      fill: #FFFFFF;\n",
              "    }\n",
              "  </style>\n",
              "\n",
              "      <script>\n",
              "        const buttonEl =\n",
              "          document.querySelector('#df-d4380267-5d99-4016-8358-e38113cfeb1b button.colab-df-convert');\n",
              "        buttonEl.style.display =\n",
              "          google.colab.kernel.accessAllowed ? 'block' : 'none';\n",
              "\n",
              "        async function convertToInteractive(key) {\n",
              "          const element = document.querySelector('#df-d4380267-5d99-4016-8358-e38113cfeb1b');\n",
              "          const dataTable =\n",
              "            await google.colab.kernel.invokeFunction('convertToInteractive',\n",
              "                                                     [key], {});\n",
              "          if (!dataTable) return;\n",
              "\n",
              "          const docLinkHtml = 'Like what you see? Visit the ' +\n",
              "            '<a target=\"_blank\" href=https://colab.research.google.com/notebooks/data_table.ipynb>data table notebook</a>'\n",
              "            + ' to learn more about interactive tables.';\n",
              "          element.innerHTML = '';\n",
              "          dataTable['output_type'] = 'display_data';\n",
              "          await google.colab.output.renderOutput(dataTable, element);\n",
              "          const docLink = document.createElement('div');\n",
              "          docLink.innerHTML = docLinkHtml;\n",
              "          element.appendChild(docLink);\n",
              "        }\n",
              "      </script>\n",
              "    </div>\n",
              "  </div>\n",
              "  "
            ]
          },
          "metadata": {},
          "execution_count": 5
        }
      ],
      "source": [
        "# for i in dataset:\n",
        "#   if dataset.label[i] == '1':\n",
        "#     label = 'TRUE'\n",
        "dataset[:3]"
      ]
    },
    {
      "cell_type": "code",
      "execution_count": null,
      "metadata": {
        "id": "TCs1G6OsCW8Q"
      },
      "outputs": [],
      "source": [
        "class vocabulary:\n",
        "\n",
        "    def __init__(self,freq_threshold,maxlength):\n",
        "        self.itos = {0:\"<PAD>\" , 1:\"<SOS>\" , 2:\"<EOS>\" , 3:\"<UNK>\"}\n",
        "        self.stoi = {\"<PAD>\": 0, \"<SOS>\": 1, \"<EOS>\": 2, \"<UNK>\": 3}\n",
        "        self.freq_threshold = freq_threshold\n",
        "        self.maxlength = maxlength\n",
        "    \n",
        "    def __len__(self):\n",
        "      return len(self.itos)\n",
        "\n",
        "    def tokenizer(self, text):\n",
        "      return[token.text.lower() for token in spacy_en.tokenizer(text)][:self.maxlength]\n",
        "\n",
        "    def biuld_vocab(self,sentence_list):\n",
        "      frequencies = {}\n",
        "      idx = 4 \n",
        "\n",
        "      for sentence in sentence_list:\n",
        "            for word in self.tokenizer(sentence):\n",
        "                if word not in frequencies:\n",
        "                    frequencies[word] = 1\n",
        "\n",
        "                else:\n",
        "                    frequencies[word] += 1\n",
        "\n",
        "                if frequencies[word] == self.freq_threshold:\n",
        "                    self.stoi[word] = idx\n",
        "                    self.itos[idx] = word\n",
        "                    idx += 1\n",
        "\n",
        "    def numericalize(self, text):\n",
        "        tokenized_text = self.tokenizer(text)\n",
        "\n",
        "        return [\n",
        "            self.stoi[token] if token in self.stoi else self.stoi[\"<UNK>\"]\n",
        "            for token in tokenized_text\n",
        "        ]\n"
      ]
    },
    {
      "cell_type": "code",
      "execution_count": null,
      "metadata": {
        "id": "3Tx7bIPoDkMb"
      },
      "outputs": [],
      "source": [
        "train , test = train_test_split(dataset , train_size = 0.8 , random_state=123 , shuffle = True)"
      ]
    },
    {
      "cell_type": "code",
      "execution_count": null,
      "metadata": {
        "id": "wJwdeE11TS9n"
      },
      "outputs": [],
      "source": [
        "sentence_train = train['processed'].tolist()\n",
        "label_train = train['label'].tolist()\n",
        "\n",
        "sentence_test = test['processed'].tolist()\n",
        "label_test = test['label'].tolist()"
      ]
    },
    {
      "cell_type": "code",
      "execution_count": null,
      "metadata": {
        "id": "SOm5PlL0O4ET"
      },
      "outputs": [],
      "source": [
        "freq_threshold = 30\n",
        "maxlength = 512\n",
        "vocab = vocabulary(freq_threshold = freq_threshold , maxlength = maxlength)\n",
        "vocab.biuld_vocab(sentence_train)"
      ]
    },
    {
      "cell_type": "code",
      "execution_count": null,
      "metadata": {
        "colab": {
          "base_uri": "https://localhost:8080/"
        },
        "id": "iFlkwm5uSdBS",
        "outputId": "fe8c99ed-e32b-41d1-a561-3f82c718e27a"
      },
      "outputs": [
        {
          "output_type": "execute_result",
          "data": {
            "text/plain": [
              "12236"
            ]
          },
          "metadata": {},
          "execution_count": 10
        }
      ],
      "source": [
        "len(vocab)"
      ]
    },
    {
      "cell_type": "markdown",
      "source": [
        "# Define dataset"
      ],
      "metadata": {
        "id": "iKw4EXmlIS_s"
      }
    },
    {
      "cell_type": "code",
      "execution_count": null,
      "metadata": {
        "id": "TqBFRx5zTgD9"
      },
      "outputs": [],
      "source": [
        "class mydataset(Dataset):\n",
        "  def __init__(self, sentence_list, labels_list, vocab ):\n",
        "    super(mydataset, self).__init__()\n",
        "    self.sentences = sentence_list\n",
        "    self.labels = labels_list\n",
        "    self.vocab = vocab\n",
        "  def __len__(self):\n",
        "    return len(self.sentences)\n",
        "  def __getitem__(self, index):\n",
        "    text = self.sentences[index]\n",
        "    label = self.labels[index]\n",
        "    numericalized_text = [self.vocab.stoi[\"<SOS>\"]]\n",
        "    numericalized_text += self.vocab.numericalize(text)\n",
        "    numericalized_text.append(self.vocab.stoi[\"<EOS>\"])\n",
        "    return torch.tensor(numericalized_text), torch.tensor(label, dtype=torch.long)\n",
        "\n",
        "\n"
      ]
    },
    {
      "cell_type": "code",
      "execution_count": null,
      "metadata": {
        "id": "OAQ5MNPUclVU"
      },
      "outputs": [],
      "source": [
        "class mycollate:\n",
        "  def __init__(self,pad_idx):\n",
        "      self.pad_idx = pad_idx\n",
        "  def __call__(self,batch):\n",
        "      label = [item[1] for item in batch]\n",
        "      text = [item[0] for item in batch]\n",
        "      length = [len(item[0]) for item in batch]\n",
        "      text = pad_sequence(text , batch_first = True , padding_value=self.pad_idx)\n",
        "      return text , torch.tensor(label , dtype = torch.long) , length"
      ]
    },
    {
      "cell_type": "code",
      "execution_count": null,
      "metadata": {
        "id": "jp2lnEDtpXRZ"
      },
      "outputs": [],
      "source": [
        "pad_idx = vocab.stoi['<PAD>']\n",
        "trainset = mydataset(sentence_train,label_train,vocab)\n",
        "testset = mydataset(sentence_test,label_test,vocab)\n",
        "trainloader = DataLoader(trainset , batch_size = 64 , shuffle = True ,collate_fn=mycollate(pad_idx=pad_idx))\n",
        "testloader = DataLoader(testset , batch_size = 64 , shuffle = False ,collate_fn=mycollate(pad_idx=pad_idx))"
      ]
    },
    {
      "cell_type": "code",
      "execution_count": null,
      "metadata": {
        "colab": {
          "base_uri": "https://localhost:8080/"
        },
        "id": "xxrDMWBLSqNW",
        "outputId": "a705195e-5190-4049-de68-8a3b5c0cbf09"
      },
      "outputs": [
        {
          "output_type": "stream",
          "name": "stdout",
          "text": [
            "torch.Size([64, 514])\n",
            "torch.Size([64])\n",
            "[43, 94, 63, 136, 133, 196, 73, 92, 173, 127, 188, 92, 109, 88, 77, 78, 84, 106, 305, 82, 131, 514, 254, 450, 89, 86, 106, 514, 245, 39, 202, 186, 123, 139, 43, 97, 181, 161, 76, 85, 85, 174, 132, 147, 514, 31, 431, 105, 95, 353, 301, 286, 98, 99, 134, 53, 65, 124, 124, 514, 166, 100, 162, 89]\n",
            "tensor([[   1,   22,    8,  ...,    0,    0,    0],\n",
            "        [   1,   55,  993,  ...,    0,    0,    0],\n",
            "        [   1,   22,    8,  ...,    0,    0,    0],\n",
            "        ...,\n",
            "        [   1,  193, 7869,  ...,    0,    0,    0],\n",
            "        [   1,  202,  285,  ...,    0,    0,    0],\n",
            "        [   1,    6,   37,  ...,    0,    0,    0]])\n"
          ]
        }
      ],
      "source": [
        "for text, label, length in trainloader:\n",
        "  print(text.shape)\n",
        "  print(label.shape)\n",
        "  print(length)\n",
        "  print(text)\n",
        "  break"
      ]
    },
    {
      "cell_type": "markdown",
      "metadata": {
        "id": "EhVUURAmNcw3"
      },
      "source": [
        "**can use LSTM or GRU for your model**\n"
      ]
    },
    {
      "cell_type": "markdown",
      "source": [
        "#Define model"
      ],
      "metadata": {
        "id": "76syAuxpIQBG"
      }
    },
    {
      "cell_type": "code",
      "execution_count": null,
      "metadata": {
        "id": "9VwzCvQQe7Xq"
      },
      "outputs": [],
      "source": [
        "class lstm(nn.Module):\n",
        "  def __init__(self , vocab_size , embeding_dim , output_dim ,n_layer , bidirectional , hidden_dim , dropout , pad_idx):\n",
        "   \n",
        "    super(lstm , self).__init__()\n",
        "    self.embeding = nn.Embedding(vocab_size , embeding_dim , padding_idx=pad_idx)\n",
        "    self.lstm = nn.LSTM(embeding_dim , hidden_dim  , n_layer , bidirectional = bidirectional , dropout = dropout , batch_first = True)\n",
        "    #batch_first must true beacase our sentence are in rows and dimations must be batch x sent'''\n",
        "    self.fc = nn.Linear(hidden_dim*2 if bidirectional else hidden_dim,output_dim)\n",
        "    self.dropout = nn.Dropout(dropout)\n",
        "\n",
        "  def forward(self ,input , lenght):\n",
        "\n",
        "    embeding = self.dropout(self.embeding(input))\n",
        "    packed_embed = nn.utils.rnn.pack_padded_sequence(embeding , lenght , batch_first = True , enforce_sorted=False)\n",
        "    packed_output , (hidden , cell) = self.lstm(packed_embed) \n",
        "    output , output_lenght = nn.utils.rnn.pad_packed_sequence(packed_output)\n",
        "    if self.lstm.bidirectional:\n",
        "      hidden = self.dropout(torch.cat([hidden[-1] , hidden[-2]],dim=-1))\n",
        "    else:\n",
        "      hidden = self.dropout(hidden[-1])\n",
        "    out = self.fc(hidden)\n",
        "\n",
        "    return out"
      ]
    },
    {
      "cell_type": "code",
      "execution_count": null,
      "metadata": {
        "id": "osnsQW_b1YWo"
      },
      "outputs": [],
      "source": [
        "class gru(nn.Module):\n",
        "  def __init__(self , vocab_size , embeding_dim , output_dim ,n_layer , bidirectional , hidden_dim , dropout , pad_idx):\n",
        "      super(gru , self).__init__()\n",
        "      self.embeding = nn.Embedding(vocab_size , embeding_dim , padding_idx=pad_idx)\n",
        "      self.rnn = nn.GRU(embeding_dim , hidden_dim , n_layer , bidirectional = bidirectional , dropout = dropout , batch_first = True)\n",
        "      self.linear = nn.Linear(hidden_dim*2 if bidirectional else hidden_dim , output_dim)\n",
        "      self.dropout = nn.Dropout(dropout)\n",
        "  def forward(self, input , length):\n",
        "    # input = [batch , length]\n",
        "    print('\\n input: ',input.shape)\n",
        "    embeding = self.dropout(self.embeding(input))\n",
        "    print('\\n embeding: ',embeding.shape)\n",
        "    # embeding  = [batch , length , embed_dim]\n",
        "    pack_out = nn.utils.rnn.pack_padded_sequence(embeding, length, batch_first=True, enforce_sorted=False )\n",
        "    out , hidden = self.rnn(pack_out)\n",
        "    output , out_lenght = nn.utils.rnn.pad_packed_sequence(out)\n",
        "    # out = [batch , length , 2*hidden]\n",
        "    if self.rnn.bidirectional:\n",
        "      hidden = self.dropout(torch.cat([hidden[-1],hidden[-2]] , dim = -1))\n",
        "    else:\n",
        "      hidden = self.dropout(hidden[-1])\n",
        "    output = self.linear(hidden)\n",
        "    print('\\n output: ',output.shape)\n",
        "    print('\\n hidden: ',hidden.shape)\n",
        "    return output"
      ]
    },
    {
      "cell_type": "code",
      "source": [
        "model"
      ],
      "metadata": {
        "id": "fDiXx6KDJ6bl",
        "outputId": "09f51ce3-ba32-40df-9d72-fced6e267ca4",
        "colab": {
          "base_uri": "https://localhost:8080/"
        }
      },
      "execution_count": null,
      "outputs": [
        {
          "output_type": "execute_result",
          "data": {
            "text/plain": [
              "gru(\n",
              "  (embeding): Embedding(12236, 300, padding_idx=0)\n",
              "  (rnn): GRU(300, 300, num_layers=2, batch_first=True, dropout=0.5, bidirectional=True)\n",
              "  (linear): Linear(in_features=600, out_features=2, bias=True)\n",
              "  (dropout): Dropout(p=0.5, inplace=False)\n",
              ")"
            ]
          },
          "metadata": {},
          "execution_count": 48
        }
      ]
    },
    {
      "cell_type": "code",
      "execution_count": null,
      "metadata": {
        "id": "yBweswVdTRY3"
      },
      "outputs": [],
      "source": [
        "class transformer(nn.Module):\n",
        "  def __init__(self,vocab_size,embeding_dim,pad_idx):\n",
        "      super(transformer , self).__init__()\n",
        "      self.embeding = nn.Embedding(vocab_size , embeding_dim , padding_idx=pad_idx)\n",
        "      self.transformer = n"
      ]
    },
    {
      "cell_type": "code",
      "execution_count": null,
      "metadata": {
        "id": "9KSl1mQAxqU8"
      },
      "outputs": [],
      "source": [
        "vocab_size = len(vocab)\n",
        "embeding_dim = 300\n",
        "hidden_dim = 300\n",
        "output_dim = 2\n",
        "n_layer = 2\n",
        "bidirectional = True\n",
        "dropout = 0.5\n",
        "\n",
        "# model = lstm(vocab_size , embeding_dim , output_dim ,n_layer , bidirectional , hidden_dim , dropout , pad_idx)\n",
        "model = gru(vocab_size , embeding_dim , output_dim ,n_layer , bidirectional , hidden_dim , dropout , pad_idx).to(device)"
      ]
    },
    {
      "cell_type": "code",
      "execution_count": null,
      "metadata": {
        "colab": {
          "base_uri": "https://localhost:8080/"
        },
        "id": "gJmvi4mkycJ-",
        "outputId": "da62e984-7bcc-48b5-a40e-32cdac36f14b"
      },
      "outputs": [
        {
          "output_type": "stream",
          "name": "stdout",
          "text": [
            "The model has 6,379,202 trainable parameters\n"
          ]
        }
      ],
      "source": [
        "def count_parameters(model):\n",
        "    return sum(p.numel() for p in model.parameters() if p.requires_grad)\n",
        "\n",
        "print(f'The model has {count_parameters(model):,} trainable parameters')"
      ]
    },
    {
      "cell_type": "markdown",
      "source": [
        "# some metrics and func"
      ],
      "metadata": {
        "id": "Pyd676ucIMKQ"
      }
    },
    {
      "cell_type": "code",
      "execution_count": null,
      "metadata": {
        "colab": {
          "base_uri": "https://localhost:8080/"
        },
        "id": "AeDRxioo5_mq",
        "outputId": "97cacc5d-83fe-4313-8996-09922b398d9f"
      },
      "outputs": [
        {
          "output_type": "execute_result",
          "data": {
            "text/plain": [
              "gru(\n",
              "  (embeding): Embedding(12236, 300, padding_idx=0)\n",
              "  (rnn): GRU(300, 300, num_layers=2, batch_first=True, dropout=0.5, bidirectional=True)\n",
              "  (linear): Linear(in_features=600, out_features=2, bias=True)\n",
              "  (dropout): Dropout(p=0.5, inplace=False)\n",
              ")"
            ]
          },
          "metadata": {},
          "execution_count": 20
        }
      ],
      "source": [
        "def initialize_weights(m):\n",
        "    if isinstance(m, nn.Linear):\n",
        "        nn.init.xavier_normal_(m.weight)\n",
        "        nn.init.zeros_(m.bias)\n",
        "    elif isinstance(m, nn.LSTM):\n",
        "        for name, param in m.named_parameters():\n",
        "            if 'bias' in name:\n",
        "                nn.init.zeros_(param)\n",
        "            elif 'weight' in name:\n",
        "                nn.init.orthogonal_(param)\n",
        "\n",
        "model.apply(initialize_weights)"
      ]
    },
    {
      "cell_type": "code",
      "execution_count": null,
      "metadata": {
        "colab": {
          "base_uri": "https://localhost:8080/"
        },
        "id": "PiIoxAVEyvJt",
        "outputId": "aa4f98fc-0bc4-4903-97d2-b1b6a9ce19e8"
      },
      "outputs": [
        {
          "output_type": "execute_result",
          "data": {
            "text/plain": [
              "CrossEntropyLoss()"
            ]
          },
          "metadata": {},
          "execution_count": 40
        }
      ],
      "source": [
        "import torch.optim as optim\n",
        "lr = 5e-4\n",
        "\n",
        "optimizer = optim.Adam(model.parameters(), lr=lr)\n",
        "criterion = nn.CrossEntropyLoss()\n",
        "criterion.to(device)"
      ]
    },
    {
      "cell_type": "code",
      "execution_count": null,
      "metadata": {
        "id": "tR6VcaCOzeqi"
      },
      "outputs": [],
      "source": [
        "class AverageMeter(object):\n",
        "    \"\"\"Computes and stores the average and current value\"\"\"\n",
        "    def __init__(self):\n",
        "        self.reset()\n",
        "\n",
        "    def reset(self):\n",
        "        self.val = 0\n",
        "        self.avg = 0\n",
        "        self.sum = 0\n",
        "        self.count = 0\n",
        "\n",
        "    def update(self, val, n=1):\n",
        "        self.val = val\n",
        "        self.sum += val * n\n",
        "        self.count += n\n",
        "        self.avg = self.sum / self.count"
      ]
    },
    {
      "cell_type": "code",
      "execution_count": null,
      "metadata": {
        "id": "aMgZhtPdzhVQ"
      },
      "outputs": [],
      "source": [
        "from torch.utils.tensorboard import SummaryWriter\n",
        "import numpy as np"
      ]
    },
    {
      "cell_type": "markdown",
      "source": [
        "#tensor board"
      ],
      "metadata": {
        "id": "7aYd3Ru2IBr8"
      }
    },
    {
      "cell_type": "code",
      "execution_count": null,
      "metadata": {
        "id": "drhJ-1AizkVG"
      },
      "outputs": [],
      "source": [
        "try:\n",
        "    from google import colab\n",
        "    COLAB_ENV = True\n",
        "except (ImportError, ModuleNotFoundError):\n",
        "    COLAB_ENV = False\n",
        "\n",
        "# Load the TensorBoard notebook extension\n",
        "if COLAB_ENV:\n",
        "    %load_ext tensorboard\n",
        "    %tensorboard --logdir runs  --host localhost --port 8088\n",
        "else:\n",
        "    print(\"To use tensorboard, please use this notebook in a Google Colab environment.\")"
      ]
    },
    {
      "cell_type": "markdown",
      "source": [
        "# Train, test and checkpoint"
      ],
      "metadata": {
        "id": "wEuVqUs_H7qZ"
      }
    },
    {
      "cell_type": "code",
      "execution_count": null,
      "metadata": {
        "colab": {
          "base_uri": "https://localhost:8080/"
        },
        "id": "mB2v2sYfznb1",
        "outputId": "08f2a124-a3af-4889-a634-da3daefebc7f"
      },
      "outputs": [
        {
          "output_type": "stream",
          "name": "stdout",
          "text": [
            "Looking in indexes: https://pypi.org/simple, https://us-python.pkg.dev/colab-wheels/public/simple/\n",
            "Requirement already satisfied: torchmetrics==0.9.1 in /usr/local/lib/python3.8/dist-packages (0.9.1)\n",
            "Requirement already satisfied: packaging in /usr/local/lib/python3.8/dist-packages (from torchmetrics==0.9.1) (23.0)\n",
            "Requirement already satisfied: numpy>=1.17.2 in /usr/local/lib/python3.8/dist-packages (from torchmetrics==0.9.1) (1.22.4)\n",
            "Requirement already satisfied: torch>=1.3.1 in /usr/local/lib/python3.8/dist-packages (from torchmetrics==0.9.1) (1.13.1+cu116)\n",
            "Requirement already satisfied: typing-extensions in /usr/local/lib/python3.8/dist-packages (from torch>=1.3.1->torchmetrics==0.9.1) (4.5.0)\n"
          ]
        }
      ],
      "source": [
        "!pip install torchmetrics==0.9.1"
      ]
    },
    {
      "cell_type": "code",
      "execution_count": null,
      "metadata": {
        "id": "MWKYb0c1zn6V"
      },
      "outputs": [],
      "source": [
        "import logging\n",
        "logging.getLogger().setLevel(logging.INFO)\n",
        "logger = logging.getLogger('NLP-Sentiment')"
      ]
    },
    {
      "cell_type": "code",
      "execution_count": null,
      "metadata": {
        "colab": {
          "base_uri": "https://localhost:8080/"
        },
        "id": "OufnxYYzzpyl",
        "outputId": "b082ddc7-644d-4535-e11a-faa1edd08c31"
      },
      "outputs": [
        {
          "output_type": "stream",
          "name": "stderr",
          "text": [
            "INFO:NLP-Sentiment:This is an info message\n",
            "WARNING:root:This is a warning message\n",
            "ERROR:root:This is an error message\n",
            "CRITICAL:root:This is a critical message\n"
          ]
        }
      ],
      "source": [
        "logger.info('This is an info message')\n",
        "logging.warning('This is a warning message')\n",
        "logging.error('This is an error message')\n",
        "logging.critical('This is a critical message')"
      ]
    },
    {
      "cell_type": "code",
      "execution_count": null,
      "metadata": {
        "id": "IN-WaLh6zr1q"
      },
      "outputs": [],
      "source": [
        "import sys\n",
        "import torchmetrics\n",
        "import logging\n",
        "logger = logging.getLogger('NLP-Sentiment')\n",
        "writer = SummaryWriter()"
      ]
    },
    {
      "cell_type": "code",
      "execution_count": null,
      "metadata": {
        "id": "eAtg0b5czxG7"
      },
      "outputs": [],
      "source": [
        "#############################################################\n",
        "####################### def train ############################\n",
        "#############################################################\n",
        "from tqdm import tqdm\n",
        "def train(epoch):\n",
        "    model.train()\n",
        "    loss_total = AverageMeter()\n",
        "    accuracy = torchmetrics.Accuracy(topk = 5).to(device)\n",
        "    for batch_idx, (inputs, targets, lengths) in enumerate(tqdm(trainloader)):\n",
        "        inputs, targets = inputs.to(device), targets.to(device)\n",
        "        optimizer.zero_grad()\n",
        "        outputs = model(inputs, lengths)\n",
        "        loss = criterion(outputs, targets)\n",
        "        loss.backward()\n",
        "        optimizer.step()\n",
        "        loss_total.update(loss)\n",
        "        accuracy(outputs.softmax(dim=-1), targets)\n",
        "        # print(targets[:10])\n",
        "        # if batch_idx == 5:\n",
        "        #     break\n",
        "    acc = accuracy.compute()\n",
        "    writer.add_scalar('Loss/train', loss_total.avg.item(), epoch)\n",
        "    writer.add_scalar('Acc/train', acc.item(), epoch)\n",
        "    logger.info(f'Train: Epoch:{epoch} Loss:{loss_total.avg:.4} Accuracy:{acc:.4}')\n",
        "    \n",
        "#############################################################\n",
        "####################### def test ############################\n",
        "#############################################################\n",
        "\n",
        "def test(epoch , checkpoint):\n",
        "    model.eval()\n",
        "    loss_total = AverageMeter()\n",
        "    accuracy = torchmetrics.Accuracy(topk = 5).to(device)\n",
        "    with torch.no_grad():\n",
        "        for batch_idx, (inputs, targets, lengths) in enumerate(tqdm(testloader)):\n",
        "            inputs, targets = inputs.to(device), targets.to(device)\n",
        "            outputs = model(inputs, lengths)\n",
        "            loss = criterion(outputs, targets)\n",
        "            loss_total.update(loss)\n",
        "            accuracy(outputs.softmax(dim=-1), targets)\n",
        "        acc = accuracy.compute()\n",
        "        writer.add_scalar('Loss/test', loss_total.avg.item(), epoch)\n",
        "        writer.add_scalar('Acc/test', acc.item(), epoch)\n",
        "        logger.info(f'Test:  Epoch:{epoch} Loss:{loss_total.avg:.4} Accuracy:{acc:.4}')\n",
        "        Checkpoint.save(acc=aaccuracy.compute() , filename='check' , net = model , epoch = epoch)\n",
        "        print()\n",
        "\n",
        "import os\n",
        "best_acc = 0.0\n",
        "class Checkpoint(object):\n",
        "    def __init__(self):\n",
        "        self.best_acc = 0.\n",
        "        self.folder = 'chekpoint'  #make a folder by this name ' chekpoint '\n",
        "        os.makedirs(self.folder, exist_ok=True)\n",
        "    def save(self, acc, filename, net, epoch=-1, ):\n",
        "        if acc > best_acc:\n",
        "            logger.info('Saving checkpoint...')\n",
        "            state = {\n",
        "                'net': net.state_dict(),\n",
        "                'acc': acc,\n",
        "                'epoch': epoch,\n",
        "                'optimizer': optimizer.state_dict(),\n",
        "            }\n",
        "            path = os.path.join(os.path.abspath(self.folder), filename + '.pth')\n",
        "            torch.save(state, path)\n",
        "            self.best_acc = acc\n",
        "    def load(self, net,  PATH):\n",
        "      model = net\n",
        "      optimizer = optim.Adam(net.parameters(), lr=0.1)\n",
        "      checkpt = torch.load(PATH)\n",
        "      model.load_state_dict(checkpt['model_state_dict'])\n",
        "      optimizer.load_state_dict(checkpt['optimizer_state_dict'])\n",
        "      epoch = checkpt['epoch']\n",
        "      loss = checkpt['loss']\n",
        "      acc = checkpt['acc']\n",
        "      return model, optimizer, loss, acc, epoch        "
      ]
    },
    {
      "cell_type": "markdown",
      "source": [
        "# Training"
      ],
      "metadata": {
        "id": "4pxnWGv2IdQw"
      }
    },
    {
      "cell_type": "code",
      "source": [
        "rnn = nn.GRU(1200, 1200, 2)\n",
        "input = torch.randn(5, 1024, 1200)#patches\n",
        "h0 = torch.randn(2, 1024, 1200)\n",
        "output, hn = rnn(input, h0)\n",
        "print(output.shape)"
      ],
      "metadata": {
        "id": "Dvhjxj_TLTno",
        "outputId": "591533ae-e9d8-4782-a593-48a48eb6e189",
        "colab": {
          "base_uri": "https://localhost:8080/"
        }
      },
      "execution_count": null,
      "outputs": [
        {
          "output_type": "stream",
          "name": "stdout",
          "text": [
            "torch.Size([5, 1024, 1200])\n"
          ]
        }
      ]
    },
    {
      "cell_type": "code",
      "execution_count": null,
      "metadata": {
        "colab": {
          "base_uri": "https://localhost:8080/",
          "height": 560
        },
        "id": "c_4G0Daf1qej",
        "outputId": "269f84f0-ee3c-4d11-f45f-fe8b22134b09"
      },
      "outputs": [
        {
          "output_type": "stream",
          "name": "stderr",
          "text": [
            "\r  0%|          | 0/625 [00:00<?, ?it/s]"
          ]
        },
        {
          "output_type": "stream",
          "name": "stdout",
          "text": [
            "\n",
            " input:  torch.Size([64, 514])\n",
            "\n",
            " embeding:  torch.Size([64, 514, 300])\n",
            "\n",
            " output:  torch.Size([64, 2])\n",
            "\n",
            " hidden:  torch.Size([64, 600])\n"
          ]
        },
        {
          "output_type": "stream",
          "name": "stderr",
          "text": [
            "\r  0%|          | 0/625 [02:09<?, ?it/s]\n"
          ]
        },
        {
          "output_type": "error",
          "ename": "KeyboardInterrupt",
          "evalue": "ignored",
          "traceback": [
            "\u001b[0;31m---------------------------------------------------------------------------\u001b[0m",
            "\u001b[0;31mKeyboardInterrupt\u001b[0m                         Traceback (most recent call last)",
            "\u001b[0;32m<ipython-input-46-6c043055b831>\u001b[0m in \u001b[0;36m<module>\u001b[0;34m\u001b[0m\n\u001b[1;32m      2\u001b[0m \u001b[0mcheckpoint\u001b[0m \u001b[0;34m=\u001b[0m \u001b[0mCheckpoint\u001b[0m\u001b[0;34m(\u001b[0m\u001b[0;34m)\u001b[0m\u001b[0;34m\u001b[0m\u001b[0;34m\u001b[0m\u001b[0m\n\u001b[1;32m      3\u001b[0m \u001b[0;32mfor\u001b[0m \u001b[0mepoch\u001b[0m \u001b[0;32min\u001b[0m \u001b[0mrange\u001b[0m\u001b[0;34m(\u001b[0m\u001b[0mstart\u001b[0m \u001b[0;34m,\u001b[0m \u001b[0mend\u001b[0m\u001b[0;34m)\u001b[0m\u001b[0;34m:\u001b[0m\u001b[0;34m\u001b[0m\u001b[0;34m\u001b[0m\u001b[0m\n\u001b[0;32m----> 4\u001b[0;31m   \u001b[0mtrain\u001b[0m\u001b[0;34m(\u001b[0m\u001b[0mepoch\u001b[0m\u001b[0;34m)\u001b[0m\u001b[0;34m\u001b[0m\u001b[0;34m\u001b[0m\u001b[0m\n\u001b[0m\u001b[1;32m      5\u001b[0m   \u001b[0mtest\u001b[0m\u001b[0;34m(\u001b[0m\u001b[0mepoch\u001b[0m\u001b[0;34m,\u001b[0m\u001b[0mcheckpoint\u001b[0m\u001b[0;34m)\u001b[0m\u001b[0;34m\u001b[0m\u001b[0;34m\u001b[0m\u001b[0m\n\u001b[1;32m      6\u001b[0m \u001b[0mwriter\u001b[0m\u001b[0;34m.\u001b[0m\u001b[0mclose\u001b[0m\u001b[0;34m(\u001b[0m\u001b[0;34m)\u001b[0m\u001b[0;34m\u001b[0m\u001b[0;34m\u001b[0m\u001b[0m\n",
            "\u001b[0;32m<ipython-input-45-32b07ba1058e>\u001b[0m in \u001b[0;36mtrain\u001b[0;34m(epoch)\u001b[0m\n\u001b[1;32m     12\u001b[0m         \u001b[0moutputs\u001b[0m \u001b[0;34m=\u001b[0m \u001b[0mmodel\u001b[0m\u001b[0;34m(\u001b[0m\u001b[0minputs\u001b[0m\u001b[0;34m,\u001b[0m \u001b[0mlengths\u001b[0m\u001b[0;34m)\u001b[0m\u001b[0;34m\u001b[0m\u001b[0;34m\u001b[0m\u001b[0m\n\u001b[1;32m     13\u001b[0m         \u001b[0mloss\u001b[0m \u001b[0;34m=\u001b[0m \u001b[0mcriterion\u001b[0m\u001b[0;34m(\u001b[0m\u001b[0moutputs\u001b[0m\u001b[0;34m,\u001b[0m \u001b[0mtargets\u001b[0m\u001b[0;34m)\u001b[0m\u001b[0;34m\u001b[0m\u001b[0;34m\u001b[0m\u001b[0m\n\u001b[0;32m---> 14\u001b[0;31m         \u001b[0mloss\u001b[0m\u001b[0;34m.\u001b[0m\u001b[0mbackward\u001b[0m\u001b[0;34m(\u001b[0m\u001b[0;34m)\u001b[0m\u001b[0;34m\u001b[0m\u001b[0;34m\u001b[0m\u001b[0m\n\u001b[0m\u001b[1;32m     15\u001b[0m         \u001b[0moptimizer\u001b[0m\u001b[0;34m.\u001b[0m\u001b[0mstep\u001b[0m\u001b[0;34m(\u001b[0m\u001b[0;34m)\u001b[0m\u001b[0;34m\u001b[0m\u001b[0;34m\u001b[0m\u001b[0m\n\u001b[1;32m     16\u001b[0m         \u001b[0mloss_total\u001b[0m\u001b[0;34m.\u001b[0m\u001b[0mupdate\u001b[0m\u001b[0;34m(\u001b[0m\u001b[0mloss\u001b[0m\u001b[0;34m)\u001b[0m\u001b[0;34m\u001b[0m\u001b[0;34m\u001b[0m\u001b[0m\n",
            "\u001b[0;32m/usr/local/lib/python3.8/dist-packages/torch/_tensor.py\u001b[0m in \u001b[0;36mbackward\u001b[0;34m(self, gradient, retain_graph, create_graph, inputs)\u001b[0m\n\u001b[1;32m    486\u001b[0m                 \u001b[0minputs\u001b[0m\u001b[0;34m=\u001b[0m\u001b[0minputs\u001b[0m\u001b[0;34m,\u001b[0m\u001b[0;34m\u001b[0m\u001b[0;34m\u001b[0m\u001b[0m\n\u001b[1;32m    487\u001b[0m             )\n\u001b[0;32m--> 488\u001b[0;31m         torch.autograd.backward(\n\u001b[0m\u001b[1;32m    489\u001b[0m             \u001b[0mself\u001b[0m\u001b[0;34m,\u001b[0m \u001b[0mgradient\u001b[0m\u001b[0;34m,\u001b[0m \u001b[0mretain_graph\u001b[0m\u001b[0;34m,\u001b[0m \u001b[0mcreate_graph\u001b[0m\u001b[0;34m,\u001b[0m \u001b[0minputs\u001b[0m\u001b[0;34m=\u001b[0m\u001b[0minputs\u001b[0m\u001b[0;34m\u001b[0m\u001b[0;34m\u001b[0m\u001b[0m\n\u001b[1;32m    490\u001b[0m         )\n",
            "\u001b[0;32m/usr/local/lib/python3.8/dist-packages/torch/autograd/__init__.py\u001b[0m in \u001b[0;36mbackward\u001b[0;34m(tensors, grad_tensors, retain_graph, create_graph, grad_variables, inputs)\u001b[0m\n\u001b[1;32m    195\u001b[0m     \u001b[0;31m# some Python versions print out the first line of a multi-line function\u001b[0m\u001b[0;34m\u001b[0m\u001b[0;34m\u001b[0m\u001b[0;34m\u001b[0m\u001b[0m\n\u001b[1;32m    196\u001b[0m     \u001b[0;31m# calls in the traceback and some print out the last line\u001b[0m\u001b[0;34m\u001b[0m\u001b[0;34m\u001b[0m\u001b[0;34m\u001b[0m\u001b[0m\n\u001b[0;32m--> 197\u001b[0;31m     Variable._execution_engine.run_backward(  # Calls into the C++ engine to run the backward pass\n\u001b[0m\u001b[1;32m    198\u001b[0m         \u001b[0mtensors\u001b[0m\u001b[0;34m,\u001b[0m \u001b[0mgrad_tensors_\u001b[0m\u001b[0;34m,\u001b[0m \u001b[0mretain_graph\u001b[0m\u001b[0;34m,\u001b[0m \u001b[0mcreate_graph\u001b[0m\u001b[0;34m,\u001b[0m \u001b[0minputs\u001b[0m\u001b[0;34m,\u001b[0m\u001b[0;34m\u001b[0m\u001b[0;34m\u001b[0m\u001b[0m\n\u001b[1;32m    199\u001b[0m         allow_unreachable=True, accumulate_grad=True)  # Calls into the C++ engine to run the backward pass\n",
            "\u001b[0;31mKeyboardInterrupt\u001b[0m: "
          ]
        }
      ],
      "source": [
        "start , end = 0,14\n",
        "checkpoint = Checkpoint()\n",
        "for epoch in range(start , end):\n",
        "  train(epoch)\n",
        "  test(epoch,checkpoint)\n",
        "writer.close()"
      ]
    },
    {
      "cell_type": "markdown",
      "source": [
        "# Eval"
      ],
      "metadata": {
        "id": "o0kZ82WdIfqv"
      }
    },
    {
      "cell_type": "code",
      "execution_count": null,
      "metadata": {
        "id": "uErTZAw2qfoP"
      },
      "outputs": [],
      "source": [
        "def test_sentence(mysentence):\n",
        "  token = [vocab.stoi[\"<SOS>\"]]\n",
        "  token += vocab.numericalize(mysentence)\n",
        "  token.append(vocab.stoi[\"<EOS>\"])\n",
        "  token =torch.tensor(token).unsqueeze(0).to(device)#use unsqueeze beacuse input dim must be like [barch,len] but now it is [len]\n",
        "  model.eval()\n",
        "  out = model(token , torch.tensor(token.shape[1]).unsqueeze(0))\n",
        "  out = torch.argmax(out)\n",
        "  if out.item() == 1:\n",
        "    print('this sentence is positive')\n",
        "  else:\n",
        "    print('this sentence is negative')"
      ]
    },
    {
      "cell_type": "code",
      "execution_count": null,
      "metadata": {
        "colab": {
          "base_uri": "https://localhost:8080/"
        },
        "id": "jXJ5KQETufb3",
        "outputId": "d8fe227b-0afa-4dc4-fbfb-78a43517d5db"
      },
      "outputs": [
        {
          "name": "stdout",
          "output_type": "stream",
          "text": [
            "ok\n",
            "torch.Size([1, 3])\n",
            "this sentence is negative\n"
          ]
        }
      ],
      "source": [
        "get_sentence = input()\n",
        "test_sentence(get_sentence)"
      ]
    }
  ],
  "metadata": {
    "colab": {
      "collapsed_sections": [
        "iKw4EXmlIS_s",
        "Pyd676ucIMKQ",
        "7aYd3Ru2IBr8",
        "wEuVqUs_H7qZ",
        "o0kZ82WdIfqv"
      ],
      "provenance": []
    },
    "gpuClass": "standard",
    "kernelspec": {
      "display_name": "Python 3",
      "name": "python3"
    },
    "language_info": {
      "name": "python"
    }
  },
  "nbformat": 4,
  "nbformat_minor": 0
}